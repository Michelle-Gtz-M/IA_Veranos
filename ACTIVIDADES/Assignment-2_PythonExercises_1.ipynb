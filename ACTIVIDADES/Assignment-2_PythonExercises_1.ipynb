{
  "nbformat": 4,
  "nbformat_minor": 0,
  "metadata": {
    "colab": {
      "provenance": []
    },
    "kernelspec": {
      "name": "python3",
      "display_name": "Python 3"
    },
    "language_info": {
      "name": "python"
    }
  },
  "cells": [
    {
      "cell_type": "code",
      "source": [
        "#Ejercicio 1\n",
        "import re\n",
        "from collections import Counter\n",
        "\n",
        "def analizar_texto(texto):\n",
        "    palabras = re.findall(r'\\b\\w+\\b', texto)\n",
        "    num_palabras = len(palabras)\n",
        "    longitud_promedio_palabra = sum(len(palabra) for palabra in palabras) / num_palabras if num_palabras else 0\n",
        "\n",
        "    conteo_palabras = Counter(palabras)\n",
        "    palabras_mas_comunes = conteo_palabras.most_common(10)\n",
        "\n",
        "    oraciones = re.split(r'[.!?]+', texto)\n",
        "    num_oraciones = len([oracion for oracion in oraciones if oracion.strip()])\n",
        "\n",
        "    parrafos = texto.split('\\n\\n')\n",
        "    num_parrafos = len([parrafo for parrafo in parrafos if parrafo.strip()])\n",
        "\n",
        "    print(f\"Número de palabras: {num_palabras}\")\n",
        "    print(f\"Número de oraciones: {num_oraciones}\")\n",
        "    print(f\"Número de párrafos: {num_parrafos}\")\n",
        "    print(f'Longitud promedio de las palabras: {longitud_promedio_palabra:.2f}')\n",
        "    print('Más comunes y sus frecuencias:')\n",
        "    for palabra, frecuencia in palabras_mas_comunes:\n",
        "        print(f'{palabra}: {frecuencia}')\n",
        "\n",
        "texto_entrada = input(\"Introduce el texto para analizar:\\n\")\n",
        "analizar_texto(texto_entrada)\n"
      ],
      "metadata": {
        "colab": {
          "base_uri": "https://localhost:8080/"
        },
        "id": "FO9kyN7NlQBl",
        "outputId": "93af9571-6f25-4e38-db9f-ffbc3b7fb436"
      },
      "execution_count": 1,
      "outputs": [
        {
          "output_type": "stream",
          "name": "stdout",
          "text": [
            "Introduce el texto para analizar:\n",
            "Text Analysis Tool: Create a Python program that reads a text file and performs various analyses on its content. The program should: Count the number of words, sentences, and paragraphs. Calculate the average word length. Identify the most common words and their frequencies.   Text Analysis Tool: Create a Python program that reads a text file and performs various analyses on its content. The program should: Count the number of words, sentences, and paragraphs. Calculate the average word length. Identify the most common words and their frequencies. \n",
            "Número de palabras: 86\n",
            "Número de oraciones: 8\n",
            "Número de párrafos: 1\n",
            "Longitud promedio de las palabras: 5.23\n",
            "Palabras más comunes y sus frecuencias:\n",
            "and: 6\n",
            "the: 6\n",
            "a: 4\n",
            "program: 4\n",
            "words: 4\n",
            "Text: 2\n",
            "Analysis: 2\n",
            "Tool: 2\n",
            "Create: 2\n",
            "Python: 2\n"
          ]
        }
      ]
    },
    {
      "cell_type": "code",
      "source": [
        "#Ejercicio 2\n",
        "import random\n",
        "\n",
        "print(\"Bienvenido a Hangman\")\n",
        "print(\"Nota: Para poder ganar el juego solo contaras con 6 oportunidades\")  # Dado que para completar el monito son solo 6 líneas/círculo.\n",
        "\n",
        "def JUEGA_AHORA():\n",
        "    Palabras = [\"verano\", \"ingenieria\", \"fime\", \"python\", \"artificial\", \"biomedico\", \"programacion\"]\n",
        "    Adivina_la_Palabra = random.choice(Palabras).upper()\n",
        "    Adivina_la_Letra = set()\n",
        "    Intentos = 6\n",
        "    Letras_Adivinadas = set()\n",
        "\n",
        "    while Intentos > 0 and set(Adivina_la_Palabra) != Letras_Adivinadas:\n",
        "        print(\"\\nPalabra:\", ' '.join([letra if letra in Letras_Adivinadas else '_' for letra in Adivina_la_Palabra]))\n",
        "        print(\"Letras adivinadas:\", ' '.join(Adivina_la_Letra))\n",
        "        print(\"Intentos restantes:\", Intentos)\n",
        "\n",
        "        adivina = input(\"Adivina una letra: \").upper()\n",
        "\n",
        "        if adivina in Adivina_la_Letra:\n",
        "            print(\"Ya usaste esa letra.\")\n",
        "        elif adivina in Adivina_la_Palabra:\n",
        "            print(\"Intenta de nuevo.\")\n",
        "            Letras_Adivinadas.add(adivina)\n",
        "        else:\n",
        "            print(\"Trata de nuevo.\")\n",
        "            Adivina_la_Letra.add(adivina)\n",
        "            Intentos -= 1\n",
        "\n",
        "    if set(Adivina_la_Palabra) == Letras_Adivinadas:\n",
        "        print(\"\\nGanaste:\", Adivina_la_Palabra)\n",
        "    else:\n",
        "        print(\"\\nLOSER :( La palabra era:\", Adivina_la_Palabra)\n",
        "\n",
        "JUEGA_AHORA()\n"
      ],
      "metadata": {
        "colab": {
          "base_uri": "https://localhost:8080/"
        },
        "collapsed": true,
        "id": "ssBZboUSY3hp",
        "outputId": "49f7eabd-53be-4747-9e26-71b7cb81f563"
      },
      "execution_count": null,
      "outputs": [
        {
          "output_type": "stream",
          "name": "stdout",
          "text": [
            "Bienvenido a Hangman\n",
            "Nota: Para poder ganar el juego solo contaras con 6 oportunidades\n",
            "\n",
            "Palabra: _ _ _ _ _ _ _ _ _ _\n",
            "Letras adivinadas: \n",
            "Intentos restantes: 6\n",
            "Adivina una letra: q\n",
            "Trata de nuevo.\n",
            "\n",
            "Palabra: _ _ _ _ _ _ _ _ _ _\n",
            "Letras adivinadas: Q\n",
            "Intentos restantes: 5\n",
            "Adivina una letra: \n",
            "Intenta de nuevo.\n",
            "\n",
            "Palabra: _ _ _ _ _ _ _ _ _ _\n",
            "Letras adivinadas: Q\n",
            "Intentos restantes: 5\n",
            "Adivina una letra: q\n",
            "Ya usaste esa letra.\n",
            "\n",
            "Palabra: _ _ _ _ _ _ _ _ _ _\n",
            "Letras adivinadas: Q\n",
            "Intentos restantes: 5\n",
            "Adivina una letra: w\n",
            "Trata de nuevo.\n",
            "\n",
            "Palabra: _ _ _ _ _ _ _ _ _ _\n",
            "Letras adivinadas: W Q\n",
            "Intentos restantes: 4\n",
            "Adivina una letra: z\n",
            "Trata de nuevo.\n",
            "\n",
            "Palabra: _ _ _ _ _ _ _ _ _ _\n",
            "Letras adivinadas: Z W Q\n",
            "Intentos restantes: 3\n",
            "Adivina una letra: m\n",
            "Trata de nuevo.\n",
            "\n",
            "Palabra: _ _ _ _ _ _ _ _ _ _\n",
            "Letras adivinadas: Z W Q M\n",
            "Intentos restantes: 2\n",
            "Adivina una letra: ñ\n",
            "Trata de nuevo.\n",
            "\n",
            "Palabra: _ _ _ _ _ _ _ _ _ _\n",
            "Letras adivinadas: Ñ W Z M Q\n",
            "Intentos restantes: 1\n",
            "Adivina una letra: o\n",
            "Trata de nuevo.\n",
            "\n",
            "LOSER. La palabra era: ARTIFICIAL\n"
          ]
        }
      ]
    },
    {
      "cell_type": "code",
      "source": [
        "#Ejercicio 3\n",
        "import random\n",
        "\n",
        "def juego_adivinanza():\n",
        "    numero_objetivo = random.randint(1, 100)\n",
        "    print(\"Bienvenido a Adivinanza de Números\")\n",
        "\n",
        "    while True:\n",
        "        try:\n",
        "            adivinanza = int(input(\"Pon tu número: \"))\n",
        "            if adivinanza < numero_objetivo:\n",
        "                print(\"Muy baja, intenta de nuevo.\")\n",
        "            elif adivinanza > numero_objetivo:\n",
        "                print(\"Muy alta, intenta de nuevo.\")\n",
        "            else:\n",
        "                print(f\"GANASTE: {numero_objetivo}\")\n",
        "                break\n",
        "        except ValueError:\n",
        "            print(\"No válida, números válidos entre 1 y 100.\")\n",
        "\n",
        "juego_adivinanza()\n"
      ],
      "metadata": {
        "colab": {
          "base_uri": "https://localhost:8080/"
        },
        "collapsed": true,
        "id": "ONuIUqJncgUd",
        "outputId": "38640ebd-096a-44af-8b9b-97efa461808c"
      },
      "execution_count": null,
      "outputs": [
        {
          "output_type": "stream",
          "name": "stdout",
          "text": [
            "Bienvenido a Adivinanza de Números\n",
            "Pon tu número: 45\n",
            "Muy baja, intenta de nuevo.\n",
            "Pon tu número: 78\n",
            "Muy alta, intenta de nuevo.\n",
            "Pon tu número: 63\n",
            "Muy alta, intenta de nuevo.\n",
            "Pon tu número: 50\n",
            "Muy baja, intenta de nuevo.\n",
            "Pon tu número: 55\n",
            "Muy alta, intenta de nuevo.\n",
            "Pon tu número: 53\n",
            "Muy alta, intenta de nuevo.\n",
            "Pon tu número: 52\n",
            "GANASTE: 52\n"
          ]
        }
      ]
    }
  ]
}