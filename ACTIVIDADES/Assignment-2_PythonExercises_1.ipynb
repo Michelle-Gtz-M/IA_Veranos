{
  "nbformat": 4,
  "nbformat_minor": 0,
  "metadata": {
    "colab": {
      "provenance": []
    },
    "kernelspec": {
      "name": "python3",
      "display_name": "Python 3"
    },
    "language_info": {
      "name": "python"
    }
  },
  "cells": [
    {
      "cell_type": "code",
      "source": [
        "#Python me venció\n",
        "import re\n",
        "from collections import Counter\n",
        "\n",
        "def analizar_texto(ruta_archivo):\n",
        "    with open(ruta_archivo, 'r', encoding='utf-8') as archivo:\n",
        "        texto = archivo.read()\n",
        "\n",
        "    parrafos = texto.split('\\n\\n')\n",
        "    num_parrafos = len(parrafos)\n",
        "\n",
        "    oraciones = re.split(r'[.!?]', texto)\n",
        "    oraciones = [oracion.strip() for oracion in oraciones if oracion.strip()]\n",
        "    num_oraciones = len(oraciones)\n",
        "\n",
        "    print(f'Número de párrafos: {num_parrafos}')\n",
        "    print(f'Número de oraciones: {num_oraciones}')\n",
        "    print(f'Número de palabras: {num_palabras}')\n",
        "\n",
        "ruta_archivo = 'C:\\\\Users\\\\a_mic\\\\OneDrive\\\\Escritorio\\\\IA_Texto.txt'\n",
        "analizar_texto(ruta_archivo)\n"
      ],
      "metadata": {
        "colab": {
          "base_uri": "https://localhost:8080/",
          "height": 297
        },
        "collapsed": true,
        "id": "8o5LT9vreRkm",
        "outputId": "fb11139f-5276-435a-8bc1-db256d16cfe0"
      },
      "execution_count": 32,
      "outputs": [
        {
          "output_type": "error",
          "ename": "FileNotFoundError",
          "evalue": "[Errno 2] No such file or directory: 'C:\\\\Users\\\\a_mic\\\\OneDrive\\\\Escritorio\\\\IA_Texto.txt'",
          "traceback": [
            "\u001b[0;31m---------------------------------------------------------------------------\u001b[0m",
            "\u001b[0;31mFileNotFoundError\u001b[0m                         Traceback (most recent call last)",
            "\u001b[0;32m<ipython-input-32-888f45b6f327>\u001b[0m in \u001b[0;36m<cell line: 20>\u001b[0;34m()\u001b[0m\n\u001b[1;32m     18\u001b[0m \u001b[0;34m\u001b[0m\u001b[0m\n\u001b[1;32m     19\u001b[0m \u001b[0mruta_archivo\u001b[0m \u001b[0;34m=\u001b[0m \u001b[0;34m'C:\\\\Users\\\\a_mic\\\\OneDrive\\\\Escritorio\\\\IA_Texto.txt'\u001b[0m\u001b[0;34m\u001b[0m\u001b[0;34m\u001b[0m\u001b[0m\n\u001b[0;32m---> 20\u001b[0;31m \u001b[0manalizar_texto\u001b[0m\u001b[0;34m(\u001b[0m\u001b[0mruta_archivo\u001b[0m\u001b[0;34m)\u001b[0m\u001b[0;34m\u001b[0m\u001b[0;34m\u001b[0m\u001b[0m\n\u001b[0m",
            "\u001b[0;32m<ipython-input-32-888f45b6f327>\u001b[0m in \u001b[0;36manalizar_texto\u001b[0;34m(ruta_archivo)\u001b[0m\n\u001b[1;32m      3\u001b[0m \u001b[0;34m\u001b[0m\u001b[0m\n\u001b[1;32m      4\u001b[0m \u001b[0;32mdef\u001b[0m \u001b[0manalizar_texto\u001b[0m\u001b[0;34m(\u001b[0m\u001b[0mruta_archivo\u001b[0m\u001b[0;34m)\u001b[0m\u001b[0;34m:\u001b[0m\u001b[0;34m\u001b[0m\u001b[0;34m\u001b[0m\u001b[0m\n\u001b[0;32m----> 5\u001b[0;31m     \u001b[0;32mwith\u001b[0m \u001b[0mopen\u001b[0m\u001b[0;34m(\u001b[0m\u001b[0mruta_archivo\u001b[0m\u001b[0;34m,\u001b[0m \u001b[0;34m'r'\u001b[0m\u001b[0;34m,\u001b[0m \u001b[0mencoding\u001b[0m\u001b[0;34m=\u001b[0m\u001b[0;34m'utf-8'\u001b[0m\u001b[0;34m)\u001b[0m \u001b[0;32mas\u001b[0m \u001b[0marchivo\u001b[0m\u001b[0;34m:\u001b[0m\u001b[0;34m\u001b[0m\u001b[0;34m\u001b[0m\u001b[0m\n\u001b[0m\u001b[1;32m      6\u001b[0m         \u001b[0mtexto\u001b[0m \u001b[0;34m=\u001b[0m \u001b[0marchivo\u001b[0m\u001b[0;34m.\u001b[0m\u001b[0mread\u001b[0m\u001b[0;34m(\u001b[0m\u001b[0;34m)\u001b[0m\u001b[0;34m\u001b[0m\u001b[0;34m\u001b[0m\u001b[0m\n\u001b[1;32m      7\u001b[0m \u001b[0;34m\u001b[0m\u001b[0m\n",
            "\u001b[0;31mFileNotFoundError\u001b[0m: [Errno 2] No such file or directory: 'C:\\\\Users\\\\a_mic\\\\OneDrive\\\\Escritorio\\\\IA_Texto.txt'"
          ]
        }
      ]
    },
    {
      "cell_type": "code",
      "source": [
        "#Ejercicio 1\n",
        "import re\n",
        "from collections import Counter\n",
        "\n",
        "def analizar_texto(texto):\n",
        "    palabras = re.findall(r'\\b\\w+\\b', texto)\n",
        "    num_palabras = len(palabras)\n",
        "\n",
        "    oraciones = re.split(r'[.!?]+', texto)\n",
        "    num_oraciones = len([oracion for oracion in oraciones if oracion.strip()])\n",
        "\n",
        "    parrafos = texto.split('\\n\\n')\n",
        "    num_parrafos = len([parrafo for parrafo in parrafos if parrafo.strip()])\n",
        "\n",
        "    print(f\"Número de palabras: {num_palabras}\")\n",
        "    print(f\"Número de oraciones: {num_oraciones}\")\n",
        "    print(f\"Número de párrafos: {num_parrafos}\")\n",
        "\n",
        "texto_entrada = input(\"Introduce el texto para analizar:\\n\")\n",
        "analizar_texto(texto_entrada)\n"
      ],
      "metadata": {
        "colab": {
          "base_uri": "https://localhost:8080/"
        },
        "id": "FO9kyN7NlQBl",
        "outputId": "1b4ba15f-0b48-4d6c-8672-bfc2b7bd9de3"
      },
      "execution_count": 31,
      "outputs": [
        {
          "output_type": "stream",
          "name": "stdout",
          "text": [
            "Introduce el texto para analizar:\n",
            "Text Analysis Tool: Create a Python program that reads a text file and performs various analyses on its content. The program should: Count the number of words, sentences, and paragraphs. Calculate the average word length. Identify the most common words and their frequencies.   Text Analysis Tool: Create a Python program that reads a text file and performs various analyses on its content. The program should: Count the number of words, sentences, and paragraphs. Calculate the average word length. Identify the most common words and their frequencies. \n",
            "Número de palabras: 86\n",
            "Número de oraciones: 8\n",
            "Número de párrafos: 1\n"
          ]
        }
      ]
    },
    {
      "cell_type": "code",
      "source": [
        "#Ejercicio 2\n",
        "import random\n",
        "\n",
        "print(\"Bienvenido a Hangman\")\n",
        "print(\"Nota: Para poder ganar el juego solo contaras con 6 oportunidades\")  # Dado que para completar el monito son solo 6 líneas/círculo.\n",
        "\n",
        "def JUEGA_AHORA():\n",
        "    Palabras = [\"verano\", \"ingenieria\", \"fime\", \"python\", \"artificial\", \"biomedico\", \"programacion\"]\n",
        "    Adivina_la_Palabra = random.choice(Palabras).upper()\n",
        "    Adivina_la_Letra = set()\n",
        "    Intentos = 6\n",
        "    Letras_Adivinadas = set()\n",
        "\n",
        "    while Intentos > 0 and set(Adivina_la_Palabra) != Letras_Adivinadas:\n",
        "        print(\"\\nPalabra:\", ' '.join([letra if letra in Letras_Adivinadas else '_' for letra in Adivina_la_Palabra]))\n",
        "        print(\"Letras adivinadas:\", ' '.join(Adivina_la_Letra))\n",
        "        print(\"Intentos restantes:\", Intentos)\n",
        "\n",
        "        adivina = input(\"Adivina una letra: \").upper()\n",
        "\n",
        "        if adivina in Adivina_la_Letra:\n",
        "            print(\"Ya usaste esa letra.\")\n",
        "        elif adivina in Adivina_la_Palabra:\n",
        "            print(\"Intenta de nuevo.\")\n",
        "            Letras_Adivinadas.add(adivina)\n",
        "        else:\n",
        "            print(\"Trata de nuevo.\")\n",
        "            Adivina_la_Letra.add(adivina)\n",
        "            Intentos -= 1\n",
        "\n",
        "    if set(Adivina_la_Palabra) == Letras_Adivinadas:\n",
        "        print(\"\\nGanaste:\", Adivina_la_Palabra)\n",
        "    else:\n",
        "        print(\"\\nLOSER :( La palabra era:\", Adivina_la_Palabra)\n",
        "\n",
        "JUEGA_AHORA()\n"
      ],
      "metadata": {
        "colab": {
          "base_uri": "https://localhost:8080/"
        },
        "collapsed": true,
        "id": "ssBZboUSY3hp",
        "outputId": "49f7eabd-53be-4747-9e26-71b7cb81f563"
      },
      "execution_count": 12,
      "outputs": [
        {
          "output_type": "stream",
          "name": "stdout",
          "text": [
            "Bienvenido a Hangman\n",
            "Nota: Para poder ganar el juego solo contaras con 6 oportunidades\n",
            "\n",
            "Palabra: _ _ _ _ _ _ _ _ _ _\n",
            "Letras adivinadas: \n",
            "Intentos restantes: 6\n",
            "Adivina una letra: q\n",
            "Trata de nuevo.\n",
            "\n",
            "Palabra: _ _ _ _ _ _ _ _ _ _\n",
            "Letras adivinadas: Q\n",
            "Intentos restantes: 5\n",
            "Adivina una letra: \n",
            "Intenta de nuevo.\n",
            "\n",
            "Palabra: _ _ _ _ _ _ _ _ _ _\n",
            "Letras adivinadas: Q\n",
            "Intentos restantes: 5\n",
            "Adivina una letra: q\n",
            "Ya usaste esa letra.\n",
            "\n",
            "Palabra: _ _ _ _ _ _ _ _ _ _\n",
            "Letras adivinadas: Q\n",
            "Intentos restantes: 5\n",
            "Adivina una letra: w\n",
            "Trata de nuevo.\n",
            "\n",
            "Palabra: _ _ _ _ _ _ _ _ _ _\n",
            "Letras adivinadas: W Q\n",
            "Intentos restantes: 4\n",
            "Adivina una letra: z\n",
            "Trata de nuevo.\n",
            "\n",
            "Palabra: _ _ _ _ _ _ _ _ _ _\n",
            "Letras adivinadas: Z W Q\n",
            "Intentos restantes: 3\n",
            "Adivina una letra: m\n",
            "Trata de nuevo.\n",
            "\n",
            "Palabra: _ _ _ _ _ _ _ _ _ _\n",
            "Letras adivinadas: Z W Q M\n",
            "Intentos restantes: 2\n",
            "Adivina una letra: ñ\n",
            "Trata de nuevo.\n",
            "\n",
            "Palabra: _ _ _ _ _ _ _ _ _ _\n",
            "Letras adivinadas: Ñ W Z M Q\n",
            "Intentos restantes: 1\n",
            "Adivina una letra: o\n",
            "Trata de nuevo.\n",
            "\n",
            "LOSER. La palabra era: ARTIFICIAL\n"
          ]
        }
      ]
    },
    {
      "cell_type": "code",
      "source": [
        "#Ejercicio 3\n",
        "import random\n",
        "\n",
        "def juego_adivinanza():\n",
        "    numero_objetivo = random.randint(1, 100)\n",
        "    print(\"Bienvenido a Adivinanza de Números\")\n",
        "\n",
        "    while True:\n",
        "        try:\n",
        "            adivinanza = int(input(\"Pon tu número: \"))\n",
        "            if adivinanza < numero_objetivo:\n",
        "                print(\"Muy baja, intenta de nuevo.\")\n",
        "            elif adivinanza > numero_objetivo:\n",
        "                print(\"Muy alta, intenta de nuevo.\")\n",
        "            else:\n",
        "                print(f\"GANASTE: {numero_objetivo}\")\n",
        "                break\n",
        "        except ValueError:\n",
        "            print(\"No válida, números válidos entre 1 y 100.\")\n",
        "\n",
        "juego_adivinanza()\n"
      ],
      "metadata": {
        "colab": {
          "base_uri": "https://localhost:8080/"
        },
        "collapsed": true,
        "id": "ONuIUqJncgUd",
        "outputId": "38640ebd-096a-44af-8b9b-97efa461808c"
      },
      "execution_count": 13,
      "outputs": [
        {
          "output_type": "stream",
          "name": "stdout",
          "text": [
            "Bienvenido a Adivinanza de Números\n",
            "Pon tu número: 45\n",
            "Muy baja, intenta de nuevo.\n",
            "Pon tu número: 78\n",
            "Muy alta, intenta de nuevo.\n",
            "Pon tu número: 63\n",
            "Muy alta, intenta de nuevo.\n",
            "Pon tu número: 50\n",
            "Muy baja, intenta de nuevo.\n",
            "Pon tu número: 55\n",
            "Muy alta, intenta de nuevo.\n",
            "Pon tu número: 53\n",
            "Muy alta, intenta de nuevo.\n",
            "Pon tu número: 52\n",
            "GANASTE: 52\n"
          ]
        }
      ]
    }
  ]
}